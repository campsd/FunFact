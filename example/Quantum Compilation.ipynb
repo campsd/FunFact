{
 "cells": [
  {
   "cell_type": "markdown",
   "id": "6bdfaf0d",
   "metadata": {},
   "source": [
    "# Optimizing a quantum circuit"
   ]
  },
  {
   "cell_type": "markdown",
   "id": "a4cdeda1",
   "metadata": {},
   "source": [
    "In this tutorial we use FunFact to optimize the parameters of a simple quantum circuit. We consider a quantum circuit as a unitary matrix that is factorized as a product of simpler unitary matrices with a Kronecker product structure."
   ]
  },
  {
   "cell_type": "code",
   "execution_count": null,
   "id": "41c0e126",
   "metadata": {},
   "outputs": [],
   "source": [
    "import sys\n",
    "sys.path.append('..')\n",
    "import funfact as ff\n",
    "import numpy as np\n",
    "from funfact import active_backend as ab\n",
    "from funfact.initializers import Normal, Uniform"
   ]
  },
  {
   "cell_type": "markdown",
   "id": "9a79ba7b",
   "metadata": {},
   "source": [
    "The matrix that we will attempt to optimize a circuit for is the 3 qubit ($2^3 \\times 2^3$) DFT matrix. It is well-known that this matrix can be decomposed in a quantum circuit with $\\mathcal{O}(n^2)$ one- and two-qubit gates. This implementation is also known as the Quantum Fourier Transform (QFT)."
   ]
  },
  {
   "cell_type": "code",
   "execution_count": 2,
   "id": "fe0f993e",
   "metadata": {},
   "outputs": [
    {
     "data": {
      "text/html": [
       "<script type='text/javascript' async src='https://cdnjs.cloudflare.com/ajax/libs/mathjax/2.7.7/MathJax.js?config=TeX-MML-AM_CHTML'></script>"
      ],
      "text/plain": [
       "<IPython.core.display.HTML object>"
      ]
     },
     "metadata": {},
     "output_type": "display_data"
    }
   ],
   "source": [
    "n = 3\n",
    "QFT3 = np.matrix(np.fft.fft(np.eye(2**n)) / np.sqrt(2**n))"
   ]
  },
  {
   "cell_type": "markdown",
   "id": "58b46096",
   "metadata": {},
   "source": [
    "Next, we need an initializer that will initialize all the leafs (vectorized) matrices in the quantum circuit to randomly generated unitary matrices."
   ]
  },
  {
   "cell_type": "code",
   "execution_count": 3,
   "id": "70f2488a",
   "metadata": {},
   "outputs": [
    {
     "data": {
      "text/html": [
       "<script type='text/javascript' async src='https://cdnjs.cloudflare.com/ajax/libs/mathjax/2.7.7/MathJax.js?config=TeX-MML-AM_CHTML'></script>"
      ],
      "text/plain": [
       "<IPython.core.display.HTML object>"
      ]
     },
     "metadata": {},
     "output_type": "display_data"
    }
   ],
   "source": [
    "# initializer TODO assume matrix or vectorized matrix (3-way tensor)\n",
    "# TODO: bumpy numpy version number for batched QR\n",
    "from numbers import Number\n",
    "from funfact import active_backend as ab\n",
    "\n",
    "class Unitary:\n",
    "    '''Initializes to a unitary. Useful for 2-way tensors that are matrices or\n",
    "    3-way tensors that are vectors of matrices. \n",
    "    '''\n",
    "    def __init__(self, distribution='normal', dtype=None):\n",
    "        if distribution == 'normal':\n",
    "            self.dtype = dtype or ab.float32\n",
    "            self.distribution = Normal(\n",
    "                 1.0, truncation=False, dtype=dtype\n",
    "             )\n",
    "        elif distribution == 'truncated':\n",
    "             self.distribution = Normal(\n",
    "                 1.0, truncation=2, dtype=dtype\n",
    "             )\n",
    "        elif distribution == 'uniform':\n",
    "             self.distribution = Uniform(\n",
    "                 1.0, dtype=dtype\n",
    "             )\n",
    "        else:\n",
    "             raise ValueError(f'Invalid distribution: {distribution}.')\n",
    "    \n",
    "    def __call__(self, shape):\n",
    "        if len(shape) == 2:\n",
    "            q, _ = ab.linalg.qr(self.distribution(shape))\n",
    "        elif len(shape) == 3:\n",
    "            q, _ = ab.linalg.qr(self.distribution((shape[2], shape[0], shape[1])))\n",
    "            q = ab.transpose(q, (1, 2, 0))\n",
    "        else:\n",
    "            raise TypeError(f'Unitary initializers can only be used for '\n",
    "                           'matrices or stacks of matrices/')        \n",
    "        return q"
   ]
  },
  {
   "cell_type": "code",
   "execution_count": null,
   "id": "6b6187eb",
   "metadata": {},
   "outputs": [],
   "source": [
    "unitary = Unitary(distribution='normal', dtype=ab.complex64)\n",
    "Q = unitary((2, 2, 8))"
   ]
  },
  {
   "cell_type": "markdown",
   "id": "8a77e5ce",
   "metadata": {},
   "source": [
    "The next step is to formulate a quadratic loss function with a penalty term on the unitariness of the solution/factors."
   ]
  },
  {
   "cell_type": "code",
   "execution_count": null,
   "id": "eef17195",
   "metadata": {},
   "outputs": [],
   "source": [
    "# cost function with penalty on unitariness \n",
    "# TODO: penalty actually should be on the optimizable factor matrices\n",
    "from funfact.loss import Loss\n",
    "\n",
    "class MSE_Unitary(Loss):\n",
    "    \n",
    "    def _loss(self, model, target, alpha=1.0):\n",
    "        if model.ndim == 2:\n",
    "            return ab.square(ab.abs(ab.subtract(model, target))) + \\\n",
    "                   alpha * ab.square(ab.abs(ab.subtract(ab.matmul(ab.transpose(ab.conjugate(model)), model), ab.eye(*target.shape))))\n",
    "        elif model.ndim == 3:\n",
    "            pass # TODO, transpose the above.\n",
    "        else:\n",
    "            return ValueError('Unsupported model shape.')\n",
    "        \n",
    "mse_unitary = MSE_Unitary()"
   ]
  },
  {
   "cell_type": "code",
   "execution_count": 4,
   "id": "f5dea84b",
   "metadata": {},
   "outputs": [
    {
     "data": {
      "text/html": [
       "<script type='text/javascript' async src='https://cdnjs.cloudflare.com/ajax/libs/mathjax/2.7.7/MathJax.js?config=TeX-MML-AM_CHTML'></script>"
      ],
      "text/plain": [
       "<IPython.core.display.HTML object>"
      ]
     },
     "metadata": {},
     "output_type": "display_data"
    },
    {
     "name": "stderr",
     "output_type": "stream",
     "text": [
      "WARNING:absl:No GPU/TPU found, falling back to CPU. (Set TF_CPP_MIN_LOG_LEVEL=0 and rerun for more info.)\n",
      "Using backend \"jax\"."
     ]
    }
   ],
   "source": [
    "unitary = Unitary(distribution='normal', dtype=ab.complex64)\n",
    "\n",
    "# generate gates and circuit as tensor expressions\n",
    "\n",
    "def single_qubit_gate(i, n):\n",
    "    #tsrex = (ff.eye(2**i) & ff.tensor(2, 2, initializer=unitary) & ff.eye(2**(n-i-1)))\n",
    "    tsrex = (ff.tensor(ab.eye(2**i)) & ff.tensor(2, 2, initializer=unitary) & ff.tensor(ab.eye(2**(n-i-1))))\n",
    "    return tsrex\n",
    "\n",
    "\n",
    "def controlled_single_qubit_gate(c, t, n, G=ff.tensor(2, 2, initializer=unitary)):\n",
    "    E0 = ff.tensor(ab.tensor([[1, 0], [0, 0]]))\n",
    "    E1 = ff.tensor(ab.tensor([[0, 0], [0, 1]]))\n",
    "    if c < t:\n",
    "        #Gup = ff.eye(2**c)\n",
    "        #Gmid = ff.eye(2**(t-c-1))\n",
    "        #Gdown = ff.eye(2**(n-t-1))\n",
    "        #tsrex = Gup & E0 & Gmid & ff.eye(2) & Gdown + \\\n",
    "        #        Gup & E1 & Gmid & G & Gdown\n",
    "        Gup = ff.tensor(ab.eye(2**c))\n",
    "        Gmid = ff.tensor(ab.eye(2**(t-c-1)))\n",
    "        Gdown = ff.tensor(ab.eye(2**(n-t-1)))    \n",
    "        tsrex = ((Gup & E0 & Gmid & ff.tensor(ab.eye(2)) & Gdown) + \\\n",
    "                (Gup & E1 & Gmid & G & Gdown))\n",
    "        \n",
    "    else:\n",
    "        #Gup = ff.eye(2**t)\n",
    "        #Gmid = ff.eye(2**(c-t-1))\n",
    "        #Gdown = ff.eye(2**(n-c-1))\n",
    "        #tsrex = Gup & ff.eye(2) & Gmid & E0 & Gdown + \\\n",
    "        #        Gup & G & Gmid & E1 & Gdown\n",
    "        Gup = ff.tensor(ab.eye(2**t))\n",
    "        Gmid = ff.tensor(ab.eye(2**(c-t-1)))\n",
    "        Gdown = ff.tensor(ab.eye(2**(n-c-1)))\n",
    "        tsrex = ((Gup & ff.tensor(ab.eye(2)) & Gmid & E0 & Gdown) + \\\n",
    "                (Gup & G & Gmid & E1 & Gdown))\n",
    "    return tsrex\n",
    "\n",
    "def cnot(c, t, n):\n",
    "    X = ff.tensor(ab.tensor([[0, 1], [1, 0]]))\n",
    "    tsrex = (controlled_single_qubit_gate(c, t, n, G=X))\n",
    "    return tsrex\n",
    "\n",
    "def swap(q1, q2, n):\n",
    "    tsrex = (cnot(q1, q2, n) @ cnot(q2, q1, n) @ cnot(q1, q2, n))\n",
    "    return tsrex\n",
    "\n",
    "def two_qubit_gate(i, n):\n",
    "    tsrex = (ff.eye(2**i) & ff.tensor(4, 4, initializer=unitary) & ff.eye(2**(n-i-2)))\n",
    "    return tsrex\n",
    "    \n",
    "circuit3 = swap(0, 2, 3) @ \\\n",
    "           single_qubit_gate(2, 3) @ \\\n",
    "           controlled_single_qubit_gate(2, 1, 3) @ \\\n",
    "           single_qubit_gate(1, 3) @ \\\n",
    "           controlled_single_qubit_gate(2, 0, 3) @ \\\n",
    "           controlled_single_qubit_gate(1, 0, 3) @ \\\n",
    "           single_qubit_gate(0, 3)"
   ]
  },
  {
   "cell_type": "code",
   "execution_count": null,
   "id": "81517fe7",
   "metadata": {},
   "outputs": [],
   "source": [
    "fac = ff.factorize(circuit3, QFT3, nvec=8, max_steps=15000, tol=1e-4, loss='mse_loss', dtype=ab.complex64, checkpoint_freq=100)"
   ]
  },
  {
   "cell_type": "code",
   "execution_count": null,
   "id": "14cb6cc1",
   "metadata": {},
   "outputs": [],
   "source": [
    "fac = ff.Factorization.from_tsrex(circuit3, dtype=ab.complex64)\n",
    "fac.factors"
   ]
  },
  {
   "cell_type": "code",
   "execution_count": 9,
   "id": "73f64719",
   "metadata": {},
   "outputs": [
    {
     "data": {
      "text/html": [
       "<script type='text/javascript' async src='https://cdnjs.cloudflare.com/ajax/libs/mathjax/2.7.7/MathJax.js?config=TeX-MML-AM_CHTML'></script>"
      ],
      "text/plain": [
       "<IPython.core.display.HTML object>"
      ]
     },
     "metadata": {},
     "output_type": "display_data"
    },
    {
     "name": "stdout",
     "output_type": "stream",
     "text": [
      "[[-0.6569594 -0.37677985j  0.        -0.j          0.17791317-0.62832177j\n",
      "   0.        +0.j        ]\n",
      " [ 0.        -0.j         -0.6569594 -0.37677985j  0.        +0.j\n",
      "   0.17791317-0.62832177j]\n",
      " [-0.3480616 -0.5525345j   0.        -0.j         -0.5238639 +0.5469235j\n",
      "  -0.        +0.j        ]\n",
      " [ 0.        -0.j         -0.3480616 -0.5525345j  -0.        +0.j\n",
      "  -0.5238639 +0.5469235j ]]\n",
      "[[-0.5665554 -0.41716188j  0.        -0.j         -0.37396234-0.6042707j\n",
      "   0.        -0.j        ]\n",
      " [ 0.        -0.j         -0.5665554 -0.41716188j  0.        -0.j\n",
      "  -0.37396234-0.6042707j ]\n",
      " [ 0.49562734-0.50925875j  0.        +0.j         -0.6432713 +0.28497535j\n",
      "  -0.        +0.j        ]\n",
      " [ 0.        +0.j          0.49562734-0.50925875j -0.        +0.j\n",
      "  -0.6432713 +0.28497535j]]\n"
     ]
    }
   ],
   "source": [
    "small_circuit = single_qubit_gate(0, 2)\n",
    "fac = ff.Factorization.from_tsrex(small_circuit, dtype=ab.complex64)\n",
    "print(fac())\n",
    "target = ff.Factorization.from_tsrex(small_circuit, dtype=ab.complex64)\n",
    "print(target())"
   ]
  },
  {
   "cell_type": "code",
   "execution_count": 6,
   "id": "2f107a0d",
   "metadata": {},
   "outputs": [
    {
     "data": {
      "text/html": [
       "<script type='text/javascript' async src='https://cdnjs.cloudflare.com/ajax/libs/mathjax/2.7.7/MathJax.js?config=TeX-MML-AM_CHTML'></script>"
      ],
      "text/plain": [
       "<IPython.core.display.HTML object>"
      ]
     },
     "metadata": {},
     "output_type": "display_data"
    },
    {
     "name": "stdout",
     "output_type": "stream",
     "text": [
      "(4, 4, 8)\n"
     ]
    },
    {
     "name": "stderr",
     "output_type": "stream",
     "text": [
      "  0%|                                                 | 0/15000 [00:00<?, ?it/s]"
     ]
    },
    {
     "name": "stdout",
     "output_type": "stream",
     "text": [
      "curr_loss: [0.2623679  0.2623679  0.51667434 0.51667434 0.2623679  0.2623679\n",
      " 0.51667434 0.51667434]\n",
      "best_loss: [inf inf]\n"
     ]
    },
    {
     "name": "stderr",
     "output_type": "stream",
     "text": [
      "\n"
     ]
    },
    {
     "ename": "ValueError",
     "evalue": "operands could not be broadcast together with shapes (8,) (2,) ",
     "output_type": "error",
     "traceback": [
      "\u001b[0;31m---------------------------------------------------------------------------\u001b[0m",
      "\u001b[0;31mValueError\u001b[0m                                Traceback (most recent call last)",
      "\u001b[0;32m/tmp/ipykernel_2769789/1555226563.py\u001b[0m in \u001b[0;36m<module>\u001b[0;34m\u001b[0m\n\u001b[0;32m----> 1\u001b[0;31m \u001b[0mfac\u001b[0m \u001b[0;34m=\u001b[0m \u001b[0mff\u001b[0m\u001b[0;34m.\u001b[0m\u001b[0mfactorize\u001b[0m\u001b[0;34m(\u001b[0m\u001b[0msmall_circuit\u001b[0m\u001b[0;34m,\u001b[0m \u001b[0mfac\u001b[0m\u001b[0;34m(\u001b[0m\u001b[0;34m)\u001b[0m\u001b[0;34m,\u001b[0m \u001b[0mnvec\u001b[0m\u001b[0;34m=\u001b[0m\u001b[0;36m2\u001b[0m\u001b[0;34m,\u001b[0m \u001b[0mmax_steps\u001b[0m\u001b[0;34m=\u001b[0m\u001b[0;36m15000\u001b[0m\u001b[0;34m,\u001b[0m \u001b[0mtol\u001b[0m\u001b[0;34m=\u001b[0m\u001b[0;36m1e-4\u001b[0m\u001b[0;34m,\u001b[0m \u001b[0mloss\u001b[0m\u001b[0;34m=\u001b[0m\u001b[0;34m'mse_loss'\u001b[0m\u001b[0;34m,\u001b[0m \u001b[0mdtype\u001b[0m\u001b[0;34m=\u001b[0m\u001b[0mab\u001b[0m\u001b[0;34m.\u001b[0m\u001b[0mcomplex64\u001b[0m\u001b[0;34m,\u001b[0m \u001b[0mcheckpoint_freq\u001b[0m\u001b[0;34m=\u001b[0m\u001b[0;36m100\u001b[0m\u001b[0;34m)\u001b[0m\u001b[0;34m\u001b[0m\u001b[0;34m\u001b[0m\u001b[0m\n\u001b[0m",
      "\u001b[0;32m~/research/FunFact-Fork/FunFact/example/../funfact/algorithm.py\u001b[0m in \u001b[0;36mfactorize\u001b[0;34m(tsrex, target, lr, tol, max_steps, optimizer, loss, nvec, stop_by, returns, checkpoint_freq, dtype, **kwargs)\u001b[0m\n\u001b[1;32m    135\u001b[0m                 \u001b[0mprint\u001b[0m\u001b[0;34m(\u001b[0m\u001b[0;34mf'curr_loss: {curr_loss}'\u001b[0m\u001b[0;34m)\u001b[0m\u001b[0;34m\u001b[0m\u001b[0;34m\u001b[0m\u001b[0m\n\u001b[1;32m    136\u001b[0m                 \u001b[0mprint\u001b[0m\u001b[0;34m(\u001b[0m\u001b[0;34mf'best_loss: {best_loss}'\u001b[0m\u001b[0;34m)\u001b[0m\u001b[0;34m\u001b[0m\u001b[0;34m\u001b[0m\u001b[0m\n\u001b[0;32m--> 137\u001b[0;31m                 \u001b[0mbetter\u001b[0m \u001b[0;34m=\u001b[0m \u001b[0mnp\u001b[0m\u001b[0;34m.\u001b[0m\u001b[0mflatnonzero\u001b[0m\u001b[0;34m(\u001b[0m\u001b[0mcurr_loss\u001b[0m \u001b[0;34m<\u001b[0m \u001b[0mbest_loss\u001b[0m\u001b[0;34m)\u001b[0m\u001b[0;34m\u001b[0m\u001b[0;34m\u001b[0m\u001b[0m\n\u001b[0m\u001b[1;32m    138\u001b[0m                 \u001b[0mbest_loss\u001b[0m \u001b[0;34m=\u001b[0m \u001b[0mnp\u001b[0m\u001b[0;34m.\u001b[0m\u001b[0mminimum\u001b[0m\u001b[0;34m(\u001b[0m\u001b[0mbest_loss\u001b[0m\u001b[0;34m,\u001b[0m \u001b[0mcurr_loss\u001b[0m\u001b[0;34m)\u001b[0m\u001b[0;34m\u001b[0m\u001b[0;34m\u001b[0m\u001b[0m\n\u001b[1;32m    139\u001b[0m                 \u001b[0;32mfor\u001b[0m \u001b[0mb\u001b[0m\u001b[0;34m,\u001b[0m \u001b[0mo\u001b[0m \u001b[0;32min\u001b[0m \u001b[0mzip\u001b[0m\u001b[0;34m(\u001b[0m\u001b[0mbest_factors\u001b[0m\u001b[0;34m,\u001b[0m \u001b[0mopt_fac\u001b[0m\u001b[0;34m.\u001b[0m\u001b[0mfactors\u001b[0m\u001b[0;34m)\u001b[0m\u001b[0;34m:\u001b[0m\u001b[0;34m\u001b[0m\u001b[0;34m\u001b[0m\u001b[0m\n",
      "\u001b[0;31mValueError\u001b[0m: operands could not be broadcast together with shapes (8,) (2,) "
     ]
    }
   ],
   "source": [
    "fac = ff.factorize(small_circuit, target(), nvec=2, max_steps=15000, tol=1e-4, loss='mse_loss', dtype=ab.complex64, checkpoint_freq=100)"
   ]
  },
  {
   "cell_type": "code",
   "execution_count": 15,
   "id": "0baa2aea",
   "metadata": {},
   "outputs": [
    {
     "data": {
      "text/html": [
       "<script type='text/javascript' async src='https://cdnjs.cloudflare.com/ajax/libs/mathjax/2.7.7/MathJax.js?config=TeX-MML-AM_CHTML'></script>"
      ],
      "text/plain": [
       "<IPython.core.display.HTML object>"
      ]
     },
     "metadata": {},
     "output_type": "display_data"
    },
    {
     "data": {
      "text/plain": [
       "array([0.6323453 , 0.6323453 , 0.6323453 , 0.55357987, 0.55357987,\n",
       "       0.55357987, 0.5815985 , 0.5815985 , 0.5815985 , 0.6323453 ,\n",
       "       0.6323453 , 0.6323453 , 0.55357987, 0.55357987, 0.55357987,\n",
       "       0.5815985 , 0.5815985 , 0.5815985 , 0.6323453 , 0.6323453 ,\n",
       "       0.6323453 , 0.55357987, 0.55357987, 0.55357987, 0.5815985 ,\n",
       "       0.5815985 , 0.5815985 ], dtype=float32)"
      ]
     },
     "execution_count": 15,
     "metadata": {},
     "output_type": "execute_result"
    }
   ],
   "source": [
    "nvec = 3\n",
    "circuit_vec = ff.vectorize(small_circuit, nvec)\n",
    "opt_fac = ff.Factorization.from_tsrex(circuit_vec, dtype=ab.complex64)\n",
    "\n",
    "loss = getattr(ff.loss, 'mse_loss')\n",
    "ab.to_numpy(loss(opt_fac(), target(), sum_vec=False))"
   ]
  },
  {
   "cell_type": "code",
   "execution_count": 16,
   "id": "af51feab",
   "metadata": {},
   "outputs": [
    {
     "data": {
      "text/html": [
       "<script type='text/javascript' async src='https://cdnjs.cloudflare.com/ajax/libs/mathjax/2.7.7/MathJax.js?config=TeX-MML-AM_CHTML'></script>"
      ],
      "text/plain": [
       "<IPython.core.display.HTML object>"
      ]
     },
     "metadata": {},
     "output_type": "display_data"
    },
    {
     "data": {
      "text/plain": [
       "(4, 4, 27)"
      ]
     },
     "execution_count": 16,
     "metadata": {},
     "output_type": "execute_result"
    }
   ],
   "source": [
    "opt_fac().shape nvec**2"
   ]
  },
  {
   "cell_type": "code",
   "execution_count": null,
   "id": "988dba15",
   "metadata": {},
   "outputs": [],
   "source": [
    "A = ff.tensor('A', ab.eye(1))\n",
    "B = ff.tensor('A', ab.eye(2))\n",
    "tsrex = A & B\n",
    "fac = ff.Factorization.from_tsrex(tsrex, dtype=ab.complex64)\n",
    "fac()"
   ]
  },
  {
   "cell_type": "code",
   "execution_count": null,
   "id": "6ad7277b",
   "metadata": {},
   "outputs": [],
   "source": [
    "fac = ff.factorize(circuit3, QFT3)"
   ]
  }
 ],
 "metadata": {
  "kernelspec": {
   "display_name": "sandbox-2",
   "language": "python",
   "name": "sandbox-2"
  },
  "language_info": {
   "codemirror_mode": {
    "name": "ipython",
    "version": 3
   },
   "file_extension": ".py",
   "mimetype": "text/x-python",
   "name": "python",
   "nbconvert_exporter": "python",
   "pygments_lexer": "ipython3",
   "version": "3.8.10"
  }
 },
 "nbformat": 4,
 "nbformat_minor": 5
}
